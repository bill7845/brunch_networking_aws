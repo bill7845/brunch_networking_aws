{
  "nbformat": 4,
  "nbformat_minor": 0,
  "metadata": {
    "colab": {
      "name": "brunch_crawling_p1.ipynb",
      "provenance": [],
      "collapsed_sections": [],
      "authorship_tag": "ABX9TyMImDAVgBQFtn1WjbQ8RWmp",
      "include_colab_link": true
    },
    "kernelspec": {
      "name": "python3",
      "display_name": "Python 3"
    },
    "language_info": {
      "name": "python"
    }
  },
  "cells": [
    {
      "cell_type": "markdown",
      "metadata": {
        "id": "view-in-github",
        "colab_type": "text"
      },
      "source": [
        "<a href=\"https://colab.research.google.com/github/bill7845/brunch_networking_aws/blob/main/Notebook/brunch_crawling_p1.ipynb\" target=\"_parent\"><img src=\"https://colab.research.google.com/assets/colab-badge.svg\" alt=\"Open In Colab\"/></a>"
      ]
    },
    {
      "cell_type": "code",
      "metadata": {
        "id": "LfBluPWRTagZ"
      },
      "source": [
        "# category_dict = {\n",
        "#     '오늘은_이런_책?q=g' : 7, '뮤직_인사이드?q=g' : 8,\n",
        "#     '직장인_현실_조언?q=g' : 10, '스타트업_경험담?q=g' : 11, '육아_이야기?q=g' : 12,\n",
        "#     '요리·레시피?q=g' : 13, '건강·운동?q=g' : 14, '멘탈_관리_심리_탐구?q=g' :15,\n",
        "#     '문화·예술?q=g' : 17, '인문학·철학?q=g' : 19, '쉽게_읽는_역사?q=g' : 20,\n",
        "#     '우리집_반려동물?q=g' : 21, '사랑·이별?q=g' : 23, '감성_에세이?q=g' : 24\n",
        "#     }"
      ],
      "execution_count": null,
      "outputs": []
    },
    {
      "cell_type": "code",
      "metadata": {
        "id": "49MxWlMPTClt"
      },
      "source": [
        "# library import\n",
        "from selenium import webdriver\n",
        "from selenium.webdriver.common.by import By\n",
        "from selenium.webdriver.common.keys import Keys\n",
        "from selenium.webdriver.support.ui import Select\n",
        "from selenium.webdriver.support.ui import WebDriverWait\n",
        "from selenium.common.exceptions import TimeoutException\n",
        "from selenium.webdriver.support import expected_conditions as EC\n",
        "from selenium.common.exceptions import NoSuchElementException\n",
        "from selenium.common.exceptions import NoAlertPresentException\n",
        "from selenium.webdriver.chrome.options import Options\n",
        "import time\n",
        "import requests\n",
        "import pickle\n",
        "from bs4 import BeautifulSoup\n",
        "\n",
        "## 카테고리 별 게시글 리스트 페이지에서 유저별 id 파싱 (*전체 18개 카테고리)\n",
        "## 각 페이지별 무한 스크롤 javaScript 제어를 위한 셀레니움 기능 사용\n",
        "def get_user_id(BASE_URL):\n",
        "        \n",
        "    chromedriver = 'C:/chrome_driver/chromedriver'\n",
        "#     options = webdriver.ChromeOptions()\n",
        "#     options.add_argument('headless')\n",
        "#     options.add_argument('window-size=1920x1080')\n",
        "    \n",
        "    category_dict = {\n",
        "        '감성_에세이?q=g' : 24\n",
        "    }\n",
        "    \n",
        "    for category in category_dict:\n",
        "        idx = category_dict[category]\n",
        "        val = category\n",
        "        \n",
        "        driver = webdriver.Chrome(chromedriver) # , options=options\n",
        "        driver.implicitly_wait(3)\n",
        "        driver.get(BASE_URL)\n",
        "        \n",
        "        xpath = \"//*[@id='mArticle']/div[3]/div[1]/div/a[{}]\".format(idx)\n",
        "        driver.find_element_by_xpath(xpath).click()\n",
        "        driver.switch_to_window(driver.window_handles[1])\n",
        "        driver.get_window_position(driver.window_handles[1])\n",
        "        \n",
        "        elem = driver.find_element_by_tag_name('body')\n",
        "        \n",
        "        while True :\n",
        "            for i in range(100):\n",
        "                elem.send_keys(Keys.END)\n",
        "                time.sleep(3)\n",
        "            publish_time = driver.find_elements_by_class_name('publish_time')\n",
        "            if  publish_time[-15].text[-4:] == \"2019\":\n",
        "                print(\"break point \",publish_time[-15].text)\n",
        "                break\n",
        "            else :\n",
        "                print(\"continue \",publish_time[-15].text)\n",
        "                continue\n",
        "                \n",
        "                \n",
        "        html = driver.page_source\n",
        "        soup = BeautifulSoup(html,'html.parser')\n",
        "\n",
        "        # 게시글별 user_id parsing\n",
        "        a_tags = soup.select('#wrapArticle > div.wrap_article_list.\\#keyword_related_contents > ul > li > a.link_post')\n",
        "\n",
        "        user_id = []\n",
        "        for a_tag in a_tags :\n",
        "            user_id.append(a_tag['href'])\n",
        "            \n",
        "        with open(category[:-4]+'_userId.txt','wb') as f:\n",
        "            pickle.dump(user_id,f)\n",
        "        print(\"complete \",category)\n",
        "        print(\"###################\")\n",
        "                       \n",
        "        driver.quit()\n",
        "        \n",
        "BASE_URL = \"https://brunch.co.kr\"\n",
        "get_user_id(BASE_URL)"
      ],
      "execution_count": null,
      "outputs": []
    }
  ]
}